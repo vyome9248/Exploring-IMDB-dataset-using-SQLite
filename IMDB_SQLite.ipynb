{
  "nbformat": 4,
  "nbformat_minor": 0,
  "metadata": {
    "colab": {
      "name": "IMDB SQLite.ipynb",
      "provenance": [],
      "mount_file_id": "1RGhgPH_f9aeAQEF3wGwJ0UG6uJXKy-FM",
      "authorship_tag": "ABX9TyNsuyHVKXAUn0YHGLineceh",
      "include_colab_link": true
    },
    "kernelspec": {
      "name": "python3",
      "display_name": "Python 3"
    },
    "language_info": {
      "name": "python"
    }
  },
  "cells": [
    {
      "cell_type": "markdown",
      "metadata": {
        "id": "view-in-github",
        "colab_type": "text"
      },
      "source": [
        "<a href=\"https://colab.research.google.com/github/vyome9248/Exploring-IMDB-dataset-using-SQLite/blob/main/IMDB_SQLite.ipynb\" target=\"_parent\"><img src=\"https://colab.research.google.com/assets/colab-badge.svg\" alt=\"Open In Colab\"/></a>"
      ]
    },
    {
      "cell_type": "markdown",
      "metadata": {
        "id": "WshwI6mL-2JJ"
      },
      "source": [
        "***IMDB.sqlite' database contains all details of movies and has three tables with name IMDB, genre and earning.***"
      ]
    },
    {
      "cell_type": "markdown",
      "metadata": {
        "id": "29CrM88jBS4K"
      },
      "source": [
        "***Loading Dependencies***"
      ]
    },
    {
      "cell_type": "code",
      "metadata": {
        "id": "mfcIdw0vBWy7"
      },
      "source": [
        "import numpy as np\n",
        "import pandas as pd\n",
        "import matplotlib.pyplot as plt\n",
        "import warnings\n",
        "warnings.filterwarnings(\"ignore\")"
      ],
      "execution_count": 10,
      "outputs": []
    },
    {
      "cell_type": "markdown",
      "metadata": {
        "id": "EUjJKaIQ_IyX"
      },
      "source": [
        "***Finding count of each genre present in IMDB***"
      ]
    },
    {
      "cell_type": "code",
      "metadata": {
        "colab": {
          "base_uri": "https://localhost:8080/"
        },
        "id": "-JPQgnBV_Q5R",
        "outputId": "3ff08c6c-feb4-4d7a-dc05-078633750ace"
      },
      "source": [
        "import sqlite3\n",
        "db = sqlite3.connect(\"/content/drive/MyDrive/IMDB.sqlite\")\n",
        "cur = db.cursor()\n",
        "cur.execute(\"Select genre,count(genre) from genre  where genre != '' group by genre\")\n",
        "a = cur.fetchall()\n",
        "for i in range(len(a)):\n",
        "    print(*a[i])"
      ],
      "execution_count": 1,
      "outputs": [
        {
          "output_type": "stream",
          "text": [
            "Action 33\n",
            "Adventure 43\n",
            "Animation 13\n",
            "Biography 21\n",
            "Comedy 31\n",
            "Crime 11\n",
            "Drama 77\n",
            "Family 3\n",
            "Fantasy 7\n",
            "History 6\n",
            "Horror 2\n",
            "Music 3\n",
            "Musical 1\n",
            "Mystery 7\n",
            "Romance 13\n",
            "Sci-Fi 18\n",
            "Sport 3\n",
            "Thriller 14\n",
            "War 2\n",
            "Western 2\n"
          ],
          "name": "stdout"
        }
      ]
    },
    {
      "cell_type": "markdown",
      "metadata": {
        "id": "znBJi-tH_pKQ"
      },
      "source": [
        "***Highest-grossing movie (i.e domestic earning + worldwide earning) in IMDB database***"
      ]
    },
    {
      "cell_type": "code",
      "metadata": {
        "colab": {
          "base_uri": "https://localhost:8080/"
        },
        "id": "WAHnBhZ9_och",
        "outputId": "29750850-660b-4d68-8419-8c1afbd8b807"
      },
      "source": [
        "cur.execute(\"select Title,rating from IMDB join earning on IMDB.Movie_Id = earning.Movie_id order by Domestic desc\")\n",
        "a = cur.fetchone()\n",
        "print(*a)"
      ],
      "execution_count": 4,
      "outputs": [
        {
          "output_type": "stream",
          "text": [
            "Star Wars: The Force Awakens (2015) 8.1\n"
          ],
          "name": "stdout"
        }
      ]
    },
    {
      "cell_type": "markdown",
      "metadata": {
        "id": "zEgBxyEpAK9G"
      },
      "source": [
        "***Most voted movie in IMDB Movie Database***"
      ]
    },
    {
      "cell_type": "code",
      "metadata": {
        "colab": {
          "base_uri": "https://localhost:8080/"
        },
        "id": "1l9JNQNNAQ-Q",
        "outputId": "043043a5-e0ab-4d96-baeb-b8aa510188ce"
      },
      "source": [
        "cur.execute(\"select Title,rating from IMDB order by TotalVotes desc\")\n",
        "a = cur.fetchone()\n",
        "print(*a)"
      ],
      "execution_count": 5,
      "outputs": [
        {
          "output_type": "stream",
          "text": [
            "Inception (2010) 8.8\n"
          ],
          "name": "stdout"
        }
      ]
    },
    {
      "cell_type": "markdown",
      "metadata": {
        "id": "onA_CbCQ_-3k"
      },
      "source": [
        "***Movie with Longest-Running Time from IMDB Movie database***"
      ]
    },
    {
      "cell_type": "code",
      "metadata": {
        "colab": {
          "base_uri": "https://localhost:8080/"
        },
        "id": "FIj-ptQIAZ-0",
        "outputId": "b55b25b7-85b7-4c53-cb9d-0d0874717ce0"
      },
      "source": [
        "cur.execute(\"select title, cast(runtime as int) from IMDB where runtime != '' and CAST(runtime as int) order by cast(runtime as int) desc \")\n",
        "a = cur.fetchone()\n",
        "print(*a)"
      ],
      "execution_count": 6,
      "outputs": [
        {
          "output_type": "stream",
          "text": [
            "The Wolf of Wall Street (2013) 180\n"
          ],
          "name": "stdout"
        }
      ]
    },
    {
      "cell_type": "markdown",
      "metadata": {
        "id": "gNOZfKNZAy2y"
      },
      "source": [
        "***Year and name of the movie which was the highest grosser in that year***"
      ]
    },
    {
      "cell_type": "code",
      "metadata": {
        "colab": {
          "base_uri": "https://localhost:8080/"
        },
        "id": "hf7OwzbtAdNT",
        "outputId": "b90e9df9-ee4d-4520-a1d7-d9f72733a232"
      },
      "source": [
        "cur.execute(\"select SUBSTR(title, LENGTH(title) - 4, 4),title as 'domestic + worldwide' from IMDB join earning on IMDB.movie_id = earning.movie_id group by SUBSTR(title, LENGTH(title) - 4, 4) having max(domestic+worldwide) \")\n",
        "a = cur.fetchall()\n",
        "for i in range(len(a)):\n",
        "    print(*a[i])"
      ],
      "execution_count": 7,
      "outputs": [
        {
          "output_type": "stream",
          "text": [
            "2010 Toy Story 3 (2010)\n",
            "2011 Rise of the Planet of the Apes (2011)\n",
            "2012 The Avengers (2012)\n",
            "2013 The Hunger Games: Catching Fire (2013)\n",
            "2014 Guardians of the Galaxy (2014)\n",
            "2015 Star Wars: The Force Awakens (2015)\n",
            "2016 Rogue One (2016)\n"
          ],
          "name": "stdout"
        }
      ]
    },
    {
      "cell_type": "markdown",
      "metadata": {
        "id": "lKFW_8-JA-49"
      },
      "source": [
        "***The percentage of the budget for each genre in IMDB Movie Dataset***"
      ]
    },
    {
      "cell_type": "code",
      "metadata": {
        "colab": {
          "base_uri": "https://localhost:8080/",
          "height": 644
        },
        "id": "7gW72RHmA35a",
        "outputId": "1e98df64-ed85-4cf2-d1d0-a1834a656f63"
      },
      "source": [
        "data = pd.read_sql_query(\"Select genre,sum(budget) from genre join IMDB on genre.movie_id = IMDB.movie_id group by genre having budget and genre != ''\",db)\n",
        "x = data[\"genre\"]\n",
        "y = data[\"sum(budget)\"]\n",
        "percent = 100.*y/y.sum()\n",
        "\n",
        "patches, texts = plt.pie(y, startangle=90, radius=1.2)\n",
        "labels = ['{0} - {1:1.2f} %'.format(i,j) for i,j in zip(x,percent)]\n",
        "\n",
        "sort_legend = True\n",
        "if sort_legend:\n",
        "    patches, labels, dummy =  zip(*sorted(zip(patches, labels, y),\n",
        "                                          key=lambda x: x[2],\n",
        "                                          reverse=True))\n",
        "\n",
        "plt.legend(patches, labels, loc='left center', bbox_to_anchor=(-0.1, 1.),\n",
        "           fontsize=8)\n",
        "\n",
        "plt.show()\n",
        "data = pd.read_sql_query('select genre,sum(budget) from IMDB inner join genre on IMDB.movie_id=Genre.movie_id group by genre having genre!=\"\" ',db)\n",
        "total = sum(data['sum(budget)'])\n",
        "li = data['genre']\n",
        "j =0\n",
        "for i in data['sum(budget)'][:]:\n",
        "    print(li[j],format((i/total)*100,'.2f'))\n",
        "    j+=1\n"
      ],
      "execution_count": 17,
      "outputs": [
        {
          "output_type": "display_data",
          "data": {
            "image/png": "[encoded data removed]",
            "text/plain": [
              "<Figure size 432x288 with 1 Axes>"
            ]
          },
          "metadata": {
            "tags": []
          }
        },
        {
          "output_type": "stream",
          "text": [
            "Action 17.98\n",
            "Adventure 25.10\n",
            "Animation 7.66\n",
            "Biography 2.59\n",
            "Comedy 7.22\n",
            "Crime 1.77\n",
            "Drama 10.85\n",
            "Family 1.91\n",
            "Fantasy 4.54\n",
            "History 0.72\n",
            "Horror 0.03\n",
            "Music 0.15\n",
            "Musical 0.25\n",
            "Mystery 1.95\n",
            "Romance 1.12\n",
            "Sci-Fi 10.77\n",
            "Sport 0.46\n",
            "Thriller 3.99\n",
            "War 0.36\n",
            "Western 0.57\n"
          ],
          "name": "stdout"
        }
      ]
    }
  ]
}